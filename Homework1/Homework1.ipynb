{
 "cells": [
  {
   "cell_type": "code",
   "execution_count": 1,
   "metadata": {},
   "outputs": [],
   "source": [
    "import nltk\n",
    "import re"
   ]
  },
  {
   "cell_type": "code",
   "execution_count": 2,
   "metadata": {},
   "outputs": [
    {
     "name": "stdout",
     "output_type": "stream",
     "text": [
      "{'they', \"didn't\", \"hasn't\", \"haven't\", 'mustn', 'no', 'at', \"needn't\", 'shall', 'enter', 'than', 'your', 'yourselves', 'needn', \"you've\", 'to', 'from', 'few', 'only', 'yours', 'myself', \"you'd\", 'yourself', 'between', 'thy', 'herself', 'was', 'all', 'if', 'that', 'isn', 'which', 'those', 'been', 'by', 'again', 'but', 'had', 'does', 'for', 'below', 'then', 'he', 'more', 'vs', 'its', 'the', 'didn', 'further', \"weren't\", 's', 'why', 'do', 'theirs', 'thus', \"mustn't\", 'you', 'under', 'through', \"shouldn't\", 'in', 'should', 'here', 'both', \"hadn't\", 'down', \"doesn't\", 'how', 'are', 'haue', 'himself', 'hers', 'their', 'where', 'my', 'she', 'some', 'will', 'her', 'before', 'of', \"she's\", \"you'll\", 'nor', \"wasn't\", 'doe', 'hadn', 'into', 'hath', 'll', 'y', 'an', 'just', 'm', 'during', 'd', \"don't\", 'a', \"that'll\", 'such', 'any', 'don', 'against', 'too', 'ours', \"shan't\", \"you're\", 'exeunt', 'ain', 'who', 'thee', 'were', 're', 'have', 'it', 'them', 'this', 'most', 'has', 'doesn', 'or', \"isn't\", 'being', 'itself', 'same', \"won't\", 'so', 'with', 'shan', 'now', 'couldn', 'hasn', 'mightn', \"it's\", 'not', 't', 'after', 'ye', 'be', 'what', 'as', 'these', 'there', 'doing', 'we', 'about', 'haven', 'o', 'each', 'our', 'once', 'off', 'can', 'on', 'did', 'having', \"wouldn't\", 've', 'out', \"mightn't\", 'themselves', 'other', 'is', 'weren', \"should've\", 'wouldn', 'ourselves', 'heere', 'ma', 'over', \"couldn't\", 'him', 'and', 'above', 'me', 'thou', 'because', 'shouldn', 'won', 'whom', 'own', 'up', 'qu', 'vpon', 'wasn', 'aren', 'am', 'very', \"aren't\", 'while', 'his', 'when', 'until', 'i'}\n"
     ]
    }
   ],
   "source": [
    "# Utility things\n",
    "stopWords = set(nltk.corpus.stopwords.words('english'))\n",
    "stopWords.update(['thou', 'doe', 'thy', 'thee', 'hath', 'shall', 'thus', 'ye', 'vpon', 'vs', 'heere',\n",
    "                  'haue', 'qu', 'exeunt', 'enter'])\n",
    "\n",
    "bigram_measures = nltk.collocations.BigramAssocMeasures()\n",
    "trigram_measures = nltk.collocations.TrigramAssocMeasures()\n",
    "\n",
    "print(stopWords)"
   ]
  },
  {
   "cell_type": "code",
   "execution_count": 18,
   "metadata": {},
   "outputs": [],
   "source": [
    "milton = nltk.corpus.gutenberg.raw('milton-paradise.txt').rstrip().lower()\n",
    "\n",
    "shakespeare = nltk.corpus.gutenberg.raw('shakespeare-hamlet.txt').rstrip().lower()\n",
    "\n",
    "shakespeareRemoval = ['ham\\.', 'hora?\\.', 'mar\\.', 'ber\\.', 'fran\\.', 'ophe?\\.', 'pol\\.', 'laer\\.', 'barn?\\.',\n",
    "                      'forn?\\.', 'amb\\.', 'osr\\.', 'fort\\.', 'rey\\.', 'ros\\.', 'guil\\.', 'king?\\.', 'queen\\.',\n",
    "                      'qu\\.', 'clo\\.', 'rosin\\.', 'polon\\.', 'reynol\\.', 'marcell\\.', 'volt\\.']\n",
    "shakespearePattern = re.compile('|^\\s+'.join(shakespeareRemoval), re.MULTILINE)\n",
    "shakespeare = shakespearePattern.sub(\"\", shakespeare)\n"
   ]
  },
  {
   "cell_type": "code",
   "execution_count": 19,
   "metadata": {},
   "outputs": [
    {
     "name": "stdout",
     "output_type": "stream",
     "text": [
      "80107\n9051\n['paradise', 'lost', 'by', 'john', 'milton', '1667', 'book', 'i', 'of', 'mans', 'first', 'disobedience', 'and', 'the', 'fruit', 'of', 'that', 'forbidden', 'tree', 'whose', 'mortal', 'taste', 'brought', 'death', 'into', 'the', 'world', 'and', 'all', 'our', 'woe', 'with', 'loss', 'of', 'eden', 'till', 'one', 'greater', 'man', 'restore', 'us', 'and', 'regain', 'the', 'blissful', 'seat', 'sing', 'heavenly', 'muse', 'that', 'on', 'the', 'secret', 'top', 'of', 'oreb', 'or', 'of', 'sinai', 'didst', 'inspire', 'that', 'shepherd', 'who', 'first', 'taught', 'the', 'chosen', 'seed', 'in', 'the', 'beginning', 'how', 'the', 'heavens', 'and', 'earth', 'rose', 'out', 'of', 'chaos', 'or', 'if', 'sion', 'hill', 'delight', 'thee', 'more', 'and', 'siloas', 'brook', 'that', 'flowed', 'fast', 'by', 'the', 'oracle', 'of', 'god', 'i']\n28737\n4769\n['the', 'tragedie', 'of', 'hamlet', 'by', 'william', 'shakespeare', '1599', 'actus', 'primus', 'scoena', 'prima', 'enter', 'barnardo', 'and', 'francisco', 'two', 'centinels', 'barnardo', 'whos', 'there', 'nay', 'answer', 'me', 'stand', 'vnfold', 'your', 'selfe', 'long', 'liue', 'the', 'king', 'barnardo', 'he', 'you', 'come', 'most', 'carefully', 'vpon', 'your', 'houre', 'tis', 'now', 'strook', 'twelue', 'get', 'thee', 'to', 'bed', 'francisco', 'for', 'this', 'releefe', 'much', 'thankes', 'tis', 'bitter', 'cold', 'and', 'i', 'am', 'sicke', 'at', 'heart', 'haue', 'you', 'had', 'quiet', 'guard', 'not', 'a', 'mouse', 'stirring', 'well', 'goodnight', 'if', 'you', 'do', 'meet', 'horatio', 'and', 'marcellus', 'the', 'riuals', 'of', 'my', 'watch', 'bid', 'them', 'make', 'hast', 'enter', 'horatio', 'and', 'marcellus', 'i', 'thinke', 'i', 'heare', 'them']\n"
     ]
    }
   ],
   "source": [
    "milton_token = re.sub('\\'', '', milton)\n",
    "milton_token = nltk.word_tokenize(re.sub('\\W+',' ', milton_token))\n",
    "milton_num = len(milton_token)\n",
    "milton_set = set(milton_token)\n",
    "print(milton_num)\n",
    "print(len(milton_set))\n",
    "print(milton_token[:100])\n",
    "\n",
    "shakespeare_token = re.sub('\\'', '', shakespeare)\n",
    "shakespeare_token = nltk.word_tokenize(re.sub('\\W+',' ', shakespeare_token))\n",
    "shakespeare_num = len(shakespeare_token)\n",
    "shakespeare_set = set(shakespeare_token)\n",
    "print(shakespeare_num)\n",
    "print(len(shakespeare_set))\n",
    "print(shakespeare_token[:100])"
   ]
  },
  {
   "cell_type": "code",
   "execution_count": 20,
   "metadata": {},
   "outputs": [
    {
     "name": "stdout",
     "output_type": "stream",
     "text": [
      "['1667', '00021053', '00081429', '00482129']\n['1599', '1', '1', '1', '1']\n"
     ]
    }
   ],
   "source": [
    "milton_ints = [num for num in milton_token if re.match('\\d', num)]\n",
    "print(milton_ints)\n",
    "\n",
    "shakespeare_ints = [num for num in shakespeare_token if re.match('\\d', num)]\n",
    "print(shakespeare_ints)"
   ]
  },
  {
   "cell_type": "code",
   "execution_count": 6,
   "metadata": {},
   "outputs": [],
   "source": [
    "milton_stopped = [word for word in milton_token if word not in stopWords]\n",
    "\n",
    "shakespeare_stopped = [word for word in shakespeare_token if word not in stopWords]"
   ]
  },
  {
   "cell_type": "code",
   "execution_count": 7,
   "metadata": {},
   "outputs": [
    {
     "name": "stdout",
     "output_type": "stream",
     "text": [
      "['paradise', 'lost', 'john', 'milton', '1667', 'book', 'mans', 'first', 'disobedience', 'fruit', 'forbidden', 'tree', 'whose', 'mortal', 'taste', 'brought', 'death', 'world', 'woe', 'loss', 'eden', 'till', 'one', 'greater', 'man', 'restore', 'us', 'regain', 'blissful', 'seat', 'sing', 'heavenly', 'muse', 'secret', 'top', 'oreb', 'sinai', 'didst', 'inspire', 'shepherd', 'first', 'taught', 'chosen', 'seed', 'beginning', 'heavens', 'earth', 'rose', 'chaos', 'sion']\n"
     ]
    }
   ],
   "source": [
    "print(milton_stopped[:50])"
   ]
  },
  {
   "cell_type": "code",
   "execution_count": 8,
   "metadata": {},
   "outputs": [
    {
     "name": "stdout",
     "output_type": "stream",
     "text": [
      "['tragedie', 'hamlet', 'william', 'shakespeare', '1599', 'actus', 'primus', 'scoena', 'prima', 'barnardo', 'francisco', 'two', 'centinels', 'barnardo', 'whos', 'francisco', 'nay', 'answer', 'stand', 'vnfold', 'selfe', 'bar', 'long', 'liue', 'king', 'francisco', 'barnardo', 'bar', 'francisco', 'come', 'carefully', 'houre', 'bar', 'tis', 'strook', 'twelue', 'get', 'bed', 'francisco', 'francisco', 'releefe', 'much', 'thankes', 'tis', 'bitter', 'cold', 'sicke', 'heart', 'barn', 'quiet']\n"
     ]
    }
   ],
   "source": [
    "print(shakespeare_stopped[:50])"
   ]
  },
  {
   "cell_type": "code",
   "execution_count": 9,
   "metadata": {},
   "outputs": [
    {
     "name": "stdout",
     "output_type": "stream",
     "text": [
      "('heaven', 0.00457)\n('god', 0.00306)\n('yet', 0.00285)\n('though', 0.00271)\n('earth', 0.00258)\n('us', 0.0023)\n('first', 0.00218)\n('man', 0.00198)\n('high', 0.00191)\n('one', 0.00177)\n('far', 0.00161)\n('may', 0.00157)\n('great', 0.00154)\n('death', 0.00151)\n('till', 0.0015)\n('like', 0.00147)\n('hell', 0.00145)\n('day', 0.0014)\n('stood', 0.00137)\n('whose', 0.00136)\n('might', 0.00134)\n('things', 0.00131)\n('good', 0.00131)\n('light', 0.0013)\n('night', 0.00129)\n('world', 0.00124)\n('love', 0.00124)\n('eve', 0.00122)\n('adam', 0.00117)\n('air', 0.00116)\n('soon', 0.00114)\n('fair', 0.00114)\n('still', 0.00112)\n('son', 0.00111)\n('life', 0.00111)\n('long', 0.00109)\n('let', 0.00109)\n('know', 0.00107)\n('place', 0.00106)\n('forth', 0.00106)\n('less', 0.00101)\n('way', 0.00101)\n('power', 0.001)\n('new', 0.001)\n('much', 0.00096)\n('found', 0.00096)\n('deep', 0.00095)\n('hand', 0.00095)\n('must', 0.00094)\n('made', 0.00092)\n"
     ]
    }
   ],
   "source": [
    "milton_fdist = nltk.FreqDist(milton_stopped)\n",
    "milton_top50 = milton_fdist.most_common(50)\n",
    "milton_norm = [(word,round(freq/milton_num,5)) for (word,freq) in milton_top50]\n",
    "for pair in milton_norm:\n",
    "    print(pair)\n"
   ]
  },
  {
   "cell_type": "code",
   "execution_count": 10,
   "metadata": {},
   "outputs": [
    {
     "name": "stdout",
     "output_type": "stream",
     "text": [
      "('hamlet', 0.0147)\n('lord', 0.0071)\n('king', 0.00575)\n('horatio', 0.00454)\n('come', 0.0035)\n('good', 0.0033)\n('laertes', 0.0032)\n('let', 0.00316)\n('oh', 0.00272)\n('like', 0.00269)\n('well', 0.00239)\n('tis', 0.00232)\n('know', 0.00232)\n('polonius', 0.00232)\n('selfe', 0.00229)\n('would', 0.00229)\n('loue', 0.00222)\n('may', 0.00219)\n('sir', 0.00209)\n('giue', 0.00198)\n('ile', 0.00195)\n('must', 0.00195)\n('ophe', 0.00188)\n('speake', 0.00185)\n('make', 0.00182)\n('say', 0.00172)\n('father', 0.00168)\n('go', 0.00161)\n('one', 0.00155)\n('man', 0.00155)\n('see', 0.00151)\n('heauen', 0.00148)\n('time', 0.00148)\n('mine', 0.00148)\n('much', 0.00145)\n('tell', 0.00145)\n('rosin', 0.00145)\n('thinke', 0.00141)\n('play', 0.00141)\n('marcellus', 0.00138)\n('mother', 0.00135)\n('queene', 0.00131)\n('night', 0.00128)\n('polon', 0.00128)\n('yet', 0.00124)\n('vp', 0.00121)\n('death', 0.00121)\n('againe', 0.00114)\n('th', 0.00111)\n('soule', 0.00111)\n"
     ]
    }
   ],
   "source": [
    "shakespeare_fdist = nltk.FreqDist(shakespeare_stopped)\n",
    "shakespeare_top50 = shakespeare_fdist.most_common(50)\n",
    "shakespeare_norm = [(word,round(freq/shakespeare_num,5)) for (word,freq) in shakespeare_top50]\n",
    "for pair in shakespeare_norm:\n",
    "    print(pair)\n"
   ]
  },
  {
   "cell_type": "code",
   "execution_count": 11,
   "metadata": {},
   "outputs": [
    {
     "name": "stdout",
     "output_type": "stream",
     "text": [
      "(('heaven', 'earth'), 0.0006664368608525796)\n(('let', 'us'), 0.0005515339538090313)\n(('good', 'evil'), 0.0003447087211306446)\n(('right', 'hand'), 0.00029874755831322533)\n(('arch', 'angel'), 0.00027576697690451566)\n(('day', 'night'), 0.00027576697690451566)\n(('god', 'man'), 0.00025278639549580604)\n(('happy', 'state'), 0.0002298058140870964)\n(('without', 'end'), 0.0002298058140870964)\n(('heavens', 'high'), 0.00020682523267838676)\n(('mine', 'eyes'), 0.00020682523267838676)\n(('son', 'god'), 0.00020682523267838676)\n(('bring', 'forth'), 0.00018384465126967711)\n(('one', 'man'), 0.00018384465126967711)\n(('tree', 'life'), 0.00018384465126967711)\n(('great', 'things'), 0.00016086406986096747)\n(('human', 'sense'), 0.00016086406986096747)\n(('knowledge', 'good'), 0.00016086406986096747)\n(('may', 'find'), 0.00016086406986096747)\n(('much', 'less'), 0.00016086406986096747)\n(('new', 'world'), 0.00016086406986096747)\n(('sin', 'death'), 0.00016086406986096747)\n(('ten', 'thousand'), 0.00016086406986096747)\n(('best', 'may'), 0.00013788348845225783)\n(('first', 'last'), 0.00013788348845225783)\n(('god', 'like'), 0.00013788348845225783)\n(('god', 'made'), 0.00013788348845225783)\n(('god', 'said'), 0.00013788348845225783)\n(('highest', 'heaven'), 0.00013788348845225783)\n(('one', 'day'), 0.00013788348845225783)\n(('well', 'pleased'), 0.00013788348845225783)\n(('among', 'trees'), 0.0001149029070435482)\n(('another', 'world'), 0.0001149029070435482)\n(('beast', 'field'), 0.0001149029070435482)\n(('bird', 'beast'), 0.0001149029070435482)\n(('created', 'world'), 0.0001149029070435482)\n(('drew', 'nigh'), 0.0001149029070435482)\n(('dry', 'land'), 0.0001149029070435482)\n(('earth', 'sea'), 0.0001149029070435482)\n(('either', 'side'), 0.0001149029070435482)\n(('ere', 'long'), 0.0001149029070435482)\n(('eternal', 'father'), 0.0001149029070435482)\n(('fair', 'fruit'), 0.0001149029070435482)\n(('far', 'wide'), 0.0001149029070435482)\n(('find', 'grace'), 0.0001149029070435482)\n(('fish', 'fowl'), 0.0001149029070435482)\n(('great', 'creator'), 0.0001149029070435482)\n(('hand', 'hand'), 0.0001149029070435482)\n(('heaven', 'gate'), 0.0001149029070435482)\n(('heaven', 'heavens'), 0.0001149029070435482)\n"
     ]
    }
   ],
   "source": [
    "milton_finder = nltk.collocations.BigramCollocationFinder.from_words(milton_stopped)\n",
    "milton_scored = milton_finder.score_ngrams(bigram_measures.raw_freq)\n",
    "for bigram in milton_scored[:50]:\n",
    "    print(bigram)"
   ]
  },
  {
   "cell_type": "code",
   "execution_count": 12,
   "metadata": {},
   "outputs": [
    {
     "name": "stdout",
     "output_type": "stream",
     "text": [
      "(('ten', 'thousand'), 10.428677538472689)\n(('fish', 'fowl'), 10.330273834411695)\n(('drew', 'nigh'), 8.782786039109203)\n(('bird', 'beast'), 8.73115327069388)\n(('arch', 'angel'), 8.601870253748912)\n(('dry', 'land'), 8.466710670467279)\n(('shalt', 'eat'), 8.19199445958585)\n(('living', 'creatures'), 8.015191280438735)\n(('human', 'sense'), 7.940455692589882)\n(('mine', 'eyes'), 7.6169771461391225)\n(('beast', 'field'), 7.601870253748913)\n(('needs', 'must'), 7.41487173894766)\n(('well', 'pleased'), 7.259478056301836)\n(('put', 'forth'), 7.234299493305839)\n(('happy', 'state'), 7.200746933594813)\n(('among', 'trees'), 7.10179665061427)\n(('right', 'hand'), 7.02884736633928)\n(('either', 'side'), 7.022069458143536)\n(('another', 'world'), 6.853869137170685)\n(('great', 'creator'), 6.701175924104302)\n(('eternal', 'father'), 6.627865462281859)\n(('bring', 'forth'), 6.607516816890053)\n(('good', 'evil'), 6.579502440720459)\n(('without', 'end'), 6.579502440720459)\n(('knowledge', 'good'), 6.292881214569048)\n(('find', 'grace'), 6.2194006169264995)\n(('tree', 'life'), 6.205571290276918)\n(('let', 'us'), 6.02768222462193)\n(('sin', 'death'), 5.71275435986837)\n(('ere', 'long'), 5.703247274123996)\n(('much', 'less'), 5.609943554284595)\n(('created', 'world'), 5.578234694557256)\n(('day', 'night'), 5.500332227286849)\n(('man', 'beast'), 5.418270315409524)\n(('sea', 'air'), 5.334013464458279)\n(('fair', 'fruit'), 5.292621292932296)\n(('new', 'world'), 5.265295382897149)\n(('best', 'may'), 5.2355480395030956)\n(('hand', 'hand'), 5.235298243806708)\n(('heavens', 'high'), 5.1924793176112125)\n(('may', 'find'), 5.0494756154841856)\n(('far', 'wide'), 4.742646091770711)\n(('heaven', 'gate'), 4.691891476352824)\n(('first', 'last'), 4.588780254308469)\n(('highest', 'heaven'), 4.571597242635113)\n(('god', 'said'), 4.565696641195428)\n(('great', 'things'), 4.559820074858759)\n(('may', 'know'), 4.327608592491865)\n(('man', 'find'), 4.228445756529508)\n(('earth', 'sea'), 4.1796853180669835)\n"
     ]
    }
   ],
   "source": [
    "milton_finder.apply_freq_filter(5)\n",
    "milton_scored = milton_finder.score_ngrams(bigram_measures.pmi)\n",
    "for bscore in milton_scored[:50]:\n",
    "    print (bscore)"
   ]
  },
  {
   "cell_type": "code",
   "execution_count": 13,
   "metadata": {},
   "outputs": [
    {
     "name": "stdout",
     "output_type": "stream",
     "text": [
      "(('lord', 'hamlet'), 0.005627009646302251)\n(('good', 'lord'), 0.0015407288317256162)\n(('hamlet', 'hamlet'), 0.0013397642015005359)\n(('hamlet', 'oh'), 0.0008038585209003215)\n(('hamlet', 'sir'), 0.0007368703108252948)\n(('ophe', 'lord'), 0.0006698821007502679)\n(('hamlet', 'come'), 0.0006028938906752412)\n(('horatio', 'lord'), 0.0006028938906752412)\n(('king', 'queene'), 0.0006028938906752412)\n(('lord', 'polon'), 0.0006028938906752412)\n(('fathers', 'death'), 0.0005359056806002144)\n(('hamlet', 'horatio'), 0.0005359056806002144)\n(('hamlet', 'nay'), 0.0005359056806002144)\n(('king', 'hamlet'), 0.0005359056806002144)\n(('good', 'friends'), 0.00046891747052518756)\n(('let', 'see'), 0.00046891747052518756)\n(('polonius', 'lord'), 0.00046891747052518756)\n(('rosincrance', 'guildensterne'), 0.00046891747052518756)\n(('set', 'downe'), 0.00046891747052518756)\n(('fare', 'well'), 0.00040192926045016077)\n(('horatio', 'marcellus'), 0.00040192926045016077)\n(('king', 'oh'), 0.00040192926045016077)\n(('laertes', 'king'), 0.00040192926045016077)\n(('let', 'know'), 0.00040192926045016077)\n(('mine', 'owne'), 0.00040192926045016077)\n(('reynol', 'lord'), 0.00040192926045016077)\n(('rosin', 'lord'), 0.00040192926045016077)\n(('well', 'lord'), 0.00040192926045016077)\n(('hamlet', 'speake'), 0.00033494105037513397)\n(('hamlet', 'tis'), 0.00033494105037513397)\n(('heauen', 'earth'), 0.00033494105037513397)\n(('let', 'come'), 0.00033494105037513397)\n(('sit', 'downe'), 0.00033494105037513397)\n(('tis', 'true'), 0.00033494105037513397)\n(('come', 'againe'), 0.0002679528403001072)\n(('come', 'hither'), 0.0002679528403001072)\n(('dead', 'body'), 0.0002679528403001072)\n(('father', 'lost'), 0.0002679528403001072)\n(('giue', 'leaue'), 0.0002679528403001072)\n(('good', 'horatio'), 0.0002679528403001072)\n(('good', 'night'), 0.0002679528403001072)\n(('guild', 'lord'), 0.0002679528403001072)\n(('hamlet', 'king'), 0.0002679528403001072)\n(('hamlet', 'let'), 0.0002679528403001072)\n(('hamlet', 'man'), 0.0002679528403001072)\n(('hamlet', 'nothing'), 0.0002679528403001072)\n(('hamlet', 'well'), 0.0002679528403001072)\n(('hamlet', 'would'), 0.0002679528403001072)\n(('king', 'king'), 0.0002679528403001072)\n(('king', 'laertes'), 0.0002679528403001072)\n"
     ]
    }
   ],
   "source": [
    "shakespeare_finder = nltk.collocations.BigramCollocationFinder.from_words(shakespeare_stopped)\n",
    "shakespeare_scored = shakespeare_finder.score_ngrams(bigram_measures.raw_freq)\n",
    "for bigram in shakespeare_scored[:50]:\n",
    "    print(bigram)"
   ]
  },
  {
   "cell_type": "code",
   "execution_count": 14,
   "metadata": {
    "scrolled": true
   },
   "outputs": [
    {
     "name": "stdout",
     "output_type": "stream",
     "text": [
      "(('rosincrance', 'guildensterne'), 9.126193733021728)\n(('sit', 'downe'), 8.380306443681517)\n(('fare', 'well'), 7.715986151347078)\n(('set', 'downe'), 7.406301652214463)\n(('fathers', 'death'), 7.373880174522084)\n(('heauen', 'earth'), 6.335912324323063)\n(('mine', 'owne'), 6.037067842548744)\n(('good', 'friends'), 5.81045083535057)\n(('tis', 'true'), 5.619705290323655)\n(('reynol', 'lord'), 5.029156864724641)\n(('let', 'see'), 4.626646244902052)\n(('king', 'queene'), 4.332403538545925)\n(('lord', 'polon'), 4.0666315701433025)\n(('good', 'lord'), 4.0534861940863784)\n(('horatio', 'marcellus'), 4.016328169904002)\n(('let', 'know'), 3.7875824631171096)\n(('lord', 'hamlet'), 3.7654620354227326)\n(('ophe', 'lord'), 3.6592072549743317)\n(('hamlet', 'nay'), 3.3938040832100693)\n(('rosin', 'lord'), 3.3033318281636337)\n(('let', 'come'), 2.932632795920391)\n(('polonius', 'lord'), 2.8434645474240092)\n(('king', 'oh'), 2.6929932538023937)\n(('hamlet', 'sir'), 2.59947910960158)\n(('well', 'lord'), 2.5798494633610485)\n(('laertes', 'king'), 2.462987648356071)\n(('hamlet', 'oh'), 2.3393562991876955)\n(('horatio', 'lord'), 2.237743486536054)\n(('hamlet', 'speake'), 1.6348121827138637)\n(('hamlet', 'come'), 1.5637290846523815)\n(('hamlet', 'tis'), 1.3076474394603537)\n(('hamlet', 'horatio'), 1.0174282043003284)\n(('king', 'hamlet'), 0.676391286465261)\n(('hamlet', 'hamlet'), 0.6446824267379228)\n"
     ]
    }
   ],
   "source": [
    "shakespeare_finder.apply_freq_filter(5)\n",
    "shakespeare_scored = shakespeare_finder.score_ngrams(bigram_measures.pmi)\n",
    "for bscore in shakespeare_scored[:50]:\n",
    "    print (bscore)"
   ]
  },
  {
   "cell_type": "code",
   "execution_count": 15,
   "metadata": {},
   "outputs": [
    {
     "name": "stdout",
     "output_type": "stream",
     "text": [
      "(('dominations', 'princedoms', 'virtues'), 9.192232563483856e-05)\n(('great', 'things', 'small'), 9.192232563483856e-05)\n(('knowledge', 'good', 'evil'), 9.192232563483856e-05)\n(('man', 'find', 'grace'), 9.192232563483856e-05)\n(('new', 'created', 'world'), 9.192232563483856e-05)\n(('princedoms', 'virtues', 'powers'), 9.192232563483856e-05)\n(('thrones', 'dominations', 'princedoms'), 9.192232563483856e-05)\n(('beast', 'fish', 'fowl'), 6.894174422612891e-05)\n(('far', 'greater', 'part'), 6.894174422612891e-05)\n(('god', 'said', 'let'), 6.894174422612891e-05)\n(('good', 'lost', 'evil'), 6.894174422612891e-05)\n(('new', 'heaven', 'earth'), 6.894174422612891e-05)\n(('serpent', 'subtlest', 'beast'), 6.894174422612891e-05)\n(('subtlest', 'beast', 'field'), 6.894174422612891e-05)\n(('air', 'frequenting', 'sent'), 4.596116281741928e-05)\n(('behold', 'looked', 'saw'), 4.596116281741928e-05)\n(('bird', 'beast', 'behold'), 4.596116281741928e-05)\n(('bruise', 'serpents', 'head'), 4.596116281741928e-05)\n(('bruise', 'victors', 'heel'), 4.596116281741928e-05)\n(('called', 'egypt', 'divided'), 4.596116281741928e-05)\n(('canaan', 'land', 'hereafter'), 4.596116281741928e-05)\n(('chained', 'burning', 'lake'), 4.596116281741928e-05)\n(('charm', 'earliest', 'birds'), 4.596116281741928e-05)\n(('come', 'future', 'days'), 4.596116281741928e-05)\n(('comes', 'invited', 'younger'), 4.596116281741928e-05)\n(('command', 'man', 'find'), 4.596116281741928e-05)\n(('contrite', 'sign', 'sorrow'), 4.596116281741928e-05)\n(('daughter', 'god', 'man'), 4.596116281741928e-05)\n(('days', 'months', 'years'), 4.596116281741928e-05)\n(('dearth', 'son', 'whose'), 4.596116281741928e-05)\n(('death', 'denounced', 'day'), 4.596116281741928e-05)\n(('deeds', 'raise', 'second'), 4.596116281741928e-05)\n(('departs', 'canaan', 'land'), 4.596116281741928e-05)\n(('dies', 'leaves', 'race'), 4.596116281741928e-05)\n(('disgorging', 'seven', 'mouths'), 4.596116281741928e-05)\n(('divided', 'river', 'nile'), 4.596116281741928e-05)\n(('done', 'part', 'thine'), 4.596116281741928e-05)\n(('drew', 'third', 'part'), 4.596116281741928e-05)\n(('dust', 'placed', 'us'), 4.596116281741928e-05)\n(('earth', 'god', 'made'), 4.596116281741928e-05)\n(('earth', 'wherein', 'dwell'), 4.596116281741928e-05)\n(('egypt', 'divided', 'river'), 4.596116281741928e-05)\n(('evening', 'mild', 'silent'), 4.596116281741928e-05)\n(('find', 'mine', 'eyes'), 4.596116281741928e-05)\n(('flower', 'glistering', 'dew'), 4.596116281741928e-05)\n(('flows', 'disgorging', 'seven'), 4.596116281741928e-05)\n(('forth', 'till', 'ground'), 4.596116281741928e-05)\n(('frequenting', 'sent', 'hearts'), 4.596116281741928e-05)\n(('fruit', 'flower', 'glistering'), 4.596116281741928e-05)\n(('garden', 'forth', 'till'), 4.596116281741928e-05)\n----------\n(('dominations', 'princedoms', 'virtues'), 24.64852535017072)\n(('thrones', 'dominations', 'princedoms'), 23.478600348728406)\n(('princedoms', 'virtues', 'powers'), 21.7416347545622)\n(('subtlest', 'beast', 'field'), 20.68916733466807)\n(('serpent', 'subtlest', 'beast'), 20.570522838169452)\n(('beast', 'fish', 'fowl'), 20.00253341605201)\n(('far', 'greater', 'part'), 15.335547881797737)\n(('knowledge', 'good', 'evil'), 14.872383655289504)\n(('great', 'things', 'small'), 14.769372905828906)\n(('new', 'created', 'world'), 14.343603680589045)\n(('man', 'find', 'grace'), 13.993814742561295)\n(('good', 'lost', 'evil'), 13.808818526512042)\n(('god', 'said', 'let'), 12.531978321153218)\n(('new', 'heaven', 'earth'), 9.87229796166346)\n"
     ]
    }
   ],
   "source": [
    "milton_finder = nltk.collocations.TrigramCollocationFinder.from_words(milton_stopped)\n",
    "milton_scored = milton_finder.score_ngrams(trigram_measures.raw_freq)\n",
    "for trigram in milton_scored[:50]:\n",
    "    print(trigram)\n",
    "    \n",
    "print('----------')\n",
    "    \n",
    "milton_finder.apply_freq_filter(3)\n",
    "milton_scored = milton_finder.score_ngrams(trigram_measures.pmi)\n",
    "for bscore in milton_scored[:50]:\n",
    "    print (bscore)"
   ]
  },
  {
   "cell_type": "code",
   "execution_count": 16,
   "metadata": {},
   "outputs": [
    {
     "name": "stdout",
     "output_type": "stream",
     "text": [
      "(('good', 'lord', 'hamlet'), 0.00040192926045016077)\n(('ophe', 'lord', 'hamlet'), 0.00033494105037513397)\n(('good', 'lord', 'polon'), 0.00020096463022508038)\n(('horatio', 'good', 'lord'), 0.00020096463022508038)\n(('lord', 'hamlet', 'hamlet'), 0.00020096463022508038)\n(('lord', 'hamlet', 'sir'), 0.00020096463022508038)\n(('reynol', 'good', 'lord'), 0.00020096463022508038)\n(('reynol', 'lord', 'polon'), 0.00020096463022508038)\n(('sit', 'downe', 'let'), 0.00020096463022508038)\n(('buried', 'christian', 'buriall'), 0.0001339764201500536)\n(('christian', 'buriall', 'clo'), 0.0001339764201500536)\n(('clay', 'made', 'guest'), 0.0001339764201500536)\n(('comicall', 'historicall', 'pastorall'), 0.0001339764201500536)\n(('deere', 'brothers', 'death'), 0.0001339764201500536)\n(('deere', 'lord', 'hamlet'), 0.0001339764201500536)\n(('dye', 'sleepe', 'sleepe'), 0.0001339764201500536)\n(('ere', 'go', 'bed'), 0.0001339764201500536)\n(('father', 'much', 'offended'), 0.0001339764201500536)\n(('follow', 'ghost', 'hamlet'), 0.0001339764201500536)\n(('gho', 'sweare', 'hamlet'), 0.0001339764201500536)\n(('glad', 'see', 'well'), 0.0001339764201500536)\n(('god', 'blesse', 'sir'), 0.0001339764201500536)\n(('goe', 'ile', 'follow'), 0.0001339764201500536)\n(('guest', 'meete', 'hamlet'), 0.0001339764201500536)\n(('guild', 'good', 'lord'), 0.0001339764201500536)\n(('guild', 'lord', 'hamlet'), 0.0001339764201500536)\n(('hamlet', 'glad', 'see'), 0.0001339764201500536)\n(('hamlet', 'hamlet', 'good'), 0.0001339764201500536)\n(('hamlet', 'hamlet', 'mother'), 0.0001339764201500536)\n(('hamlet', 'horatio', 'hamlet'), 0.0001339764201500536)\n(('hamlet', 'king', 'father'), 0.0001339764201500536)\n(('hamlet', 'mother', 'father'), 0.0001339764201500536)\n(('hamlet', 'nay', 'know'), 0.0001339764201500536)\n(('hamlet', 'oh', 'wonderfull'), 0.0001339764201500536)\n(('hamlet', 'sir', 'guild'), 0.0001339764201500536)\n(('heauen', 'earth', 'must'), 0.0001339764201500536)\n(('hora', 'verie', 'well'), 0.0001339764201500536)\n(('horatio', 'lord', 'hamlet'), 0.0001339764201500536)\n(('horatio', 'marcellus', 'marcellus'), 0.0001339764201500536)\n(('humbly', 'take', 'leaue'), 0.0001339764201500536)\n(('idle', 'tongue', 'hamlet'), 0.0001339764201500536)\n(('king', 'laertes', 'king'), 0.0001339764201500536)\n(('king', 'queene', 'laertes'), 0.0001339764201500536)\n(('king', 'queene', 'polonius'), 0.0001339764201500536)\n(('laertes', 'cerimony', 'else'), 0.0001339764201500536)\n(('laertes', 'hamlet', 'hamlet'), 0.0001339764201500536)\n(('lap', 'ophe', 'lord'), 0.0001339764201500536)\n(('let', 'go', 'gertrude'), 0.0001339764201500536)\n(('lord', 'hamlet', 'excellent'), 0.0001339764201500536)\n(('lord', 'hamlet', 'glad'), 0.0001339764201500536)\n----------\n(('sit', 'downe', 'let'), 14.954485268689432)\n(('reynol', 'lord', 'polon'), 12.646962622132808)\n(('reynol', 'good', 'lord'), 11.280180291461189)\n(('good', 'lord', 'polon'), 9.732692496158695)\n(('horatio', 'good', 'lord'), 7.903804412551448)\n(('ophe', 'lord', 'hamlet'), 7.753451056325492)\n(('good', 'lord', 'hamlet'), 7.2091305401016825)\n(('lord', 'hamlet', 'sir'), 6.869644073830013)\n(('lord', 'hamlet', 'hamlet'), 4.052350914716289)\n"
     ]
    }
   ],
   "source": [
    "shakespeare_finder = nltk.collocations.TrigramCollocationFinder.from_words(shakespeare_stopped)\n",
    "shakespeare_scored = shakespeare_finder.score_ngrams(trigram_measures.raw_freq)\n",
    "for trigram in shakespeare_scored[:50]:\n",
    "    print(trigram)\n",
    "    \n",
    "print('----------')\n",
    "\n",
    "shakespeare_finder.apply_freq_filter(3)\n",
    "shakespeare_scored = shakespeare_finder.score_ngrams(trigram_measures.pmi)\n",
    "for bscore in shakespeare_scored[:50]:\n",
    "    print (bscore)"
   ]
  },
  {
   "cell_type": "code",
   "execution_count": null,
   "metadata": {},
   "outputs": [],
   "source": []
  }
 ],
 "metadata": {
  "kernelspec": {
   "display_name": "Python 3",
   "language": "python",
   "name": "python3"
  },
  "language_info": {
   "codemirror_mode": {
    "name": "ipython",
    "version": 3
   },
   "file_extension": ".py",
   "mimetype": "text/x-python",
   "name": "python",
   "nbconvert_exporter": "python",
   "pygments_lexer": "ipython3",
   "version": "3.7.1"
  }
 },
 "nbformat": 4,
 "nbformat_minor": 2
}
